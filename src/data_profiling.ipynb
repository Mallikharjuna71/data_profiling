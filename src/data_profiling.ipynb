{
 "cells": [
  {
   "cell_type": "code",
   "execution_count": 0,
   "metadata": {
    "application/vnd.databricks.v1+cell": {
     "cellMetadata": {
      "byteLimit": 2048000,
      "rowLimit": 10000
     },
     "inputWidgets": {},
     "nuid": "c6599e54-5081-4f51-97a4-ea6bc95d3793",
     "showTitle": false,
     "tableResultSettingsMap": {},
     "title": ""
    }
   },
   "outputs": [],
   "source": [
    "csv_path = 'dbfs:/FileStore/data_profiling.csv'\n",
    "json_path = 'dbfs:/FileStore/json_data_profiling.json'"
   ]
  },
  {
   "cell_type": "code",
   "execution_count": 0,
   "metadata": {
    "application/vnd.databricks.v1+cell": {
     "cellMetadata": {
      "byteLimit": 2048000,
      "rowLimit": 10000
     },
     "inputWidgets": {},
     "nuid": "047697b7-0cbe-48df-92f4-f63fd6c044d0",
     "showTitle": false,
     "tableResultSettingsMap": {},
     "title": ""
    }
   },
   "outputs": [],
   "source": [
    "from pyspark.sql.functions import *\n",
    "from pyspark.sql.types import *"
   ]
  },
  {
   "cell_type": "code",
   "execution_count": 0,
   "metadata": {
    "application/vnd.databricks.v1+cell": {
     "cellMetadata": {
      "byteLimit": 2048000,
      "rowLimit": 10000
     },
     "inputWidgets": {},
     "nuid": "016459cb-951a-4507-b634-a892664294ea",
     "showTitle": false,
     "tableResultSettingsMap": {},
     "title": ""
    }
   },
   "outputs": [],
   "source": [
    "schema = StructType([\n",
    "    StructField(\"Customer_ID\", IntegerType(), True),\n",
    "    StructField(\"Name\", StringType(), True),\n",
    "    StructField(\"Email\", StringType(), True),\n",
    "    StructField(\"Age\", StringType(), True),  \n",
    "    StructField(\"Purchase_Amount\", StringType(), True),  \n",
    "    StructField(\"Signup_Date\", StringType(), True) \n",
    "])\n"
   ]
  },
  {
   "cell_type": "code",
   "execution_count": 0,
   "metadata": {
    "application/vnd.databricks.v1+cell": {
     "cellMetadata": {
      "byteLimit": 2048000,
      "rowLimit": 10000
     },
     "inputWidgets": {},
     "nuid": "a2c390ab-2ae4-4227-b403-230c260e37fb",
     "showTitle": false,
     "tableResultSettingsMap": {},
     "title": ""
    }
   },
   "outputs": [],
   "source": [
    "df = spark.read.csv(csv_path,schema=schema, header = True)"
   ]
  },
  {
   "cell_type": "code",
   "execution_count": 0,
   "metadata": {
    "application/vnd.databricks.v1+cell": {
     "cellMetadata": {
      "byteLimit": 2048000,
      "rowLimit": 10000
     },
     "inputWidgets": {},
     "nuid": "661ebc4d-ea23-44ba-a65a-1fd12db34cda",
     "showTitle": false,
     "tableResultSettingsMap": {},
     "title": ""
    }
   },
   "outputs": [
    {
     "output_type": "display_data",
     "data": {
      "text/html": [
       "<style scoped>\n",
       "  .table-result-container {\n",
       "    max-height: 300px;\n",
       "    overflow: auto;\n",
       "  }\n",
       "  table, th, td {\n",
       "    border: 1px solid black;\n",
       "    border-collapse: collapse;\n",
       "  }\n",
       "  th, td {\n",
       "    padding: 5px;\n",
       "  }\n",
       "  th {\n",
       "    text-align: left;\n",
       "  }\n",
       "</style><div class='table-result-container'><table class='table-result'><thead style='background-color: white'><tr><th>Customer_ID</th><th>Name</th><th>Email</th><th>Age</th><th>Purchase_Amount</th><th>Signup_Date</th></tr></thead><tbody><tr><td>1</td><td> Alice</td><td> alice@example.com</td><td> 25</td><td> 100.0</td><td> 2024-01-10</td></tr><tr><td>2</td><td> Bob</td><td> bob@example.com</td><td> None</td><td> 500.5</td><td> 01-12-2024</td></tr><tr><td>3</td><td> Charlie</td><td> charlie@domain</td><td> 30</td><td> None</td><td> 2024/02/15</td></tr><tr><td>4</td><td> David</td><td> None</td><td> 28</td><td> 300.0</td><td> 05/03/2024</td></tr><tr><td>5</td><td> Eve</td><td> eve@example.com</td><td> Twenty-Two</td><td> 700.75</td><td> 2024-01-25</td></tr><tr><td>1</td><td> Alice</td><td> alice@example.com</td><td> 25</td><td> 100.0</td><td> 2024-01-10</td></tr><tr><td>7</td><td> John</td><td>   JOHN@GMAIL.COM  </td><td> 40</td><td> 50.5</td><td> Feb 20</td></tr><tr><td>8</td><td> Mike</td><td> mike@example.com</td><td> 35</td><td> NA</td><td> 2024-01-30</td></tr></tbody></table></div>"
      ]
     },
     "metadata": {
      "application/vnd.databricks.v1+output": {
       "addedWidgets": {},
       "aggData": [],
       "aggError": "",
       "aggOverflow": false,
       "aggSchema": [],
       "aggSeriesLimitReached": false,
       "aggType": "",
       "arguments": {},
       "columnCustomDisplayInfos": {},
       "data": [
        [
         1,
         " Alice",
         " alice@example.com",
         " 25",
         " 100.0",
         " 2024-01-10"
        ],
        [
         2,
         " Bob",
         " bob@example.com",
         " None",
         " 500.5",
         " 01-12-2024"
        ],
        [
         3,
         " Charlie",
         " charlie@domain",
         " 30",
         " None",
         " 2024/02/15"
        ],
        [
         4,
         " David",
         " None",
         " 28",
         " 300.0",
         " 05/03/2024"
        ],
        [
         5,
         " Eve",
         " eve@example.com",
         " Twenty-Two",
         " 700.75",
         " 2024-01-25"
        ],
        [
         1,
         " Alice",
         " alice@example.com",
         " 25",
         " 100.0",
         " 2024-01-10"
        ],
        [
         7,
         " John",
         "   JOHN@GMAIL.COM  ",
         " 40",
         " 50.5",
         " Feb 20"
        ],
        [
         8,
         " Mike",
         " mike@example.com",
         " 35",
         " NA",
         " 2024-01-30"
        ]
       ],
       "datasetInfos": [],
       "dbfsResultPath": null,
       "isJsonSchema": true,
       "metadata": {},
       "overflow": false,
       "plotOptions": {
        "customPlotOptions": {},
        "displayType": "table",
        "pivotAggregation": null,
        "pivotColumns": null,
        "xColumns": null,
        "yColumns": null
       },
       "removedWidgets": [],
       "schema": [
        {
         "metadata": "{}",
         "name": "Customer_ID",
         "type": "\"integer\""
        },
        {
         "metadata": "{}",
         "name": "Name",
         "type": "\"string\""
        },
        {
         "metadata": "{}",
         "name": "Email",
         "type": "\"string\""
        },
        {
         "metadata": "{}",
         "name": "Age",
         "type": "\"string\""
        },
        {
         "metadata": "{}",
         "name": "Purchase_Amount",
         "type": "\"string\""
        },
        {
         "metadata": "{}",
         "name": "Signup_Date",
         "type": "\"string\""
        }
       ],
       "type": "table"
      }
     },
     "output_type": "display_data"
    }
   ],
   "source": [
    "df.display()\n"
   ]
  },
  {
   "cell_type": "code",
   "execution_count": 0,
   "metadata": {
    "application/vnd.databricks.v1+cell": {
     "cellMetadata": {
      "byteLimit": 2048000,
      "rowLimit": 10000
     },
     "inputWidgets": {},
     "nuid": "55d4d638-7056-4089-9956-01e0f8ca6400",
     "showTitle": false,
     "tableResultSettingsMap": {},
     "title": ""
    }
   },
   "outputs": [],
   "source": [
    "# in age column replacing non numerics with empty space\n",
    "# in Purchase_Amount column replacing NA with None oterwise casting it to double type\n",
    "# in Signup_Date column converting values from string type to date type and formatting it\n",
    "# in Email column removing white spaces from both the ends and converting it to lower case\n",
    "\n",
    "\n",
    "df_fixed = df.withColumn(\"Age\", regexp_replace(col(\"Age\"), \"[^0-9]\", \"\").cast(IntegerType())) \\\n",
    "             .withColumn(\"Purchase_Amount\", when(col(\"Purchase_Amount\") == \"NA\", lit(None)).otherwise(col(\"Purchase_Amount\")).cast(DoubleType())) \\\n",
    "             .withColumn(\"Signup_Date\", to_date(regexp_replace(trim(col(\"Signup_Date\")), \"/\", \"-\"), \"yyyy-MM-dd\"))\\\n",
    "                 .withColumn(\"Email\", lower(trim((col(\"Email\")))))\n"
   ]
  },
  {
   "cell_type": "code",
   "execution_count": 0,
   "metadata": {
    "application/vnd.databricks.v1+cell": {
     "cellMetadata": {
      "byteLimit": 2048000,
      "rowLimit": 10000
     },
     "inputWidgets": {},
     "nuid": "8b4e2684-5760-4a5e-9fd8-69616bc017f8",
     "showTitle": false,
     "tableResultSettingsMap": {},
     "title": ""
    }
   },
   "outputs": [
    {
     "output_type": "display_data",
     "data": {
      "text/html": [
       "<style scoped>\n",
       "  .table-result-container {\n",
       "    max-height: 300px;\n",
       "    overflow: auto;\n",
       "  }\n",
       "  table, th, td {\n",
       "    border: 1px solid black;\n",
       "    border-collapse: collapse;\n",
       "  }\n",
       "  th, td {\n",
       "    padding: 5px;\n",
       "  }\n",
       "  th {\n",
       "    text-align: left;\n",
       "  }\n",
       "</style><div class='table-result-container'><table class='table-result'><thead style='background-color: white'><tr><th>Customer_ID</th><th>Name</th><th>Email</th><th>Age</th><th>Purchase_Amount</th><th>Signup_Date</th></tr></thead><tbody><tr><td>1</td><td> Alice</td><td>alice@example.com</td><td>25</td><td>100.0</td><td>2024-01-10</td></tr><tr><td>2</td><td> Bob</td><td>bob@example.com</td><td>null</td><td>500.5</td><td>null</td></tr><tr><td>3</td><td> Charlie</td><td>charlie@domain</td><td>30</td><td>null</td><td>2024-02-15</td></tr><tr><td>4</td><td> David</td><td>none</td><td>28</td><td>300.0</td><td>null</td></tr><tr><td>5</td><td> Eve</td><td>eve@example.com</td><td>null</td><td>700.75</td><td>2024-01-25</td></tr><tr><td>1</td><td> Alice</td><td>alice@example.com</td><td>25</td><td>100.0</td><td>2024-01-10</td></tr><tr><td>7</td><td> John</td><td>john@gmail.com</td><td>40</td><td>50.5</td><td>null</td></tr><tr><td>8</td><td> Mike</td><td>mike@example.com</td><td>35</td><td>null</td><td>2024-01-30</td></tr></tbody></table></div>"
      ]
     },
     "metadata": {
      "application/vnd.databricks.v1+output": {
       "addedWidgets": {},
       "aggData": [],
       "aggError": "",
       "aggOverflow": false,
       "aggSchema": [],
       "aggSeriesLimitReached": false,
       "aggType": "",
       "arguments": {},
       "columnCustomDisplayInfos": {},
       "data": [
        [
         1,
         " Alice",
         "alice@example.com",
         25,
         100.0,
         "2024-01-10"
        ],
        [
         2,
         " Bob",
         "bob@example.com",
         null,
         500.5,
         null
        ],
        [
         3,
         " Charlie",
         "charlie@domain",
         30,
         null,
         "2024-02-15"
        ],
        [
         4,
         " David",
         "none",
         28,
         300.0,
         null
        ],
        [
         5,
         " Eve",
         "eve@example.com",
         null,
         700.75,
         "2024-01-25"
        ],
        [
         1,
         " Alice",
         "alice@example.com",
         25,
         100.0,
         "2024-01-10"
        ],
        [
         7,
         " John",
         "john@gmail.com",
         40,
         50.5,
         null
        ],
        [
         8,
         " Mike",
         "mike@example.com",
         35,
         null,
         "2024-01-30"
        ]
       ],
       "datasetInfos": [],
       "dbfsResultPath": null,
       "isJsonSchema": true,
       "metadata": {},
       "overflow": false,
       "plotOptions": {
        "customPlotOptions": {},
        "displayType": "table",
        "pivotAggregation": null,
        "pivotColumns": null,
        "xColumns": null,
        "yColumns": null
       },
       "removedWidgets": [],
       "schema": [
        {
         "metadata": "{}",
         "name": "Customer_ID",
         "type": "\"integer\""
        },
        {
         "metadata": "{}",
         "name": "Name",
         "type": "\"string\""
        },
        {
         "metadata": "{}",
         "name": "Email",
         "type": "\"string\""
        },
        {
         "metadata": "{}",
         "name": "Age",
         "type": "\"integer\""
        },
        {
         "metadata": "{}",
         "name": "Purchase_Amount",
         "type": "\"double\""
        },
        {
         "metadata": "{}",
         "name": "Signup_Date",
         "type": "\"date\""
        }
       ],
       "type": "table"
      }
     },
     "output_type": "display_data"
    }
   ],
   "source": [
    "df_fixed.display()"
   ]
  },
  {
   "cell_type": "code",
   "execution_count": 0,
   "metadata": {
    "application/vnd.databricks.v1+cell": {
     "cellMetadata": {
      "byteLimit": 2048000,
      "rowLimit": 10000
     },
     "inputWidgets": {},
     "nuid": "51550cb2-3c82-4d39-ab20-d3097a1e62c2",
     "showTitle": false,
     "tableResultSettingsMap": {},
     "title": ""
    }
   },
   "outputs": [
    {
     "output_type": "display_data",
     "data": {
      "text/html": [
       "<style scoped>\n",
       "  .table-result-container {\n",
       "    max-height: 300px;\n",
       "    overflow: auto;\n",
       "  }\n",
       "  table, th, td {\n",
       "    border: 1px solid black;\n",
       "    border-collapse: collapse;\n",
       "  }\n",
       "  th, td {\n",
       "    padding: 5px;\n",
       "  }\n",
       "  th {\n",
       "    text-align: left;\n",
       "  }\n",
       "</style><div class='table-result-container'><table class='table-result'><thead style='background-color: white'><tr><th>Customer_ID</th><th>Name</th><th>Email</th><th>Age</th><th>Purchase_Amount</th><th>Signup_Date</th></tr></thead><tbody><tr><td>0</td><td>0</td><td>0</td><td>2</td><td>2</td><td>3</td></tr></tbody></table></div>"
      ]
     },
     "metadata": {
      "application/vnd.databricks.v1+output": {
       "addedWidgets": {},
       "aggData": [],
       "aggError": "",
       "aggOverflow": false,
       "aggSchema": [],
       "aggSeriesLimitReached": false,
       "aggType": "",
       "arguments": {},
       "columnCustomDisplayInfos": {},
       "data": [
        [
         0,
         0,
         0,
         2,
         2,
         3
        ]
       ],
       "datasetInfos": [],
       "dbfsResultPath": null,
       "isJsonSchema": true,
       "metadata": {},
       "overflow": false,
       "plotOptions": {
        "customPlotOptions": {},
        "displayType": "table",
        "pivotAggregation": null,
        "pivotColumns": null,
        "xColumns": null,
        "yColumns": null
       },
       "removedWidgets": [],
       "schema": [
        {
         "metadata": "{}",
         "name": "Customer_ID",
         "type": "\"long\""
        },
        {
         "metadata": "{}",
         "name": "Name",
         "type": "\"long\""
        },
        {
         "metadata": "{}",
         "name": "Email",
         "type": "\"long\""
        },
        {
         "metadata": "{}",
         "name": "Age",
         "type": "\"long\""
        },
        {
         "metadata": "{}",
         "name": "Purchase_Amount",
         "type": "\"long\""
        },
        {
         "metadata": "{}",
         "name": "Signup_Date",
         "type": "\"long\""
        }
       ],
       "type": "table"
      }
     },
     "output_type": "display_data"
    }
   ],
   "source": [
    "# counting null values for each column\n",
    "df_fixed.select([count(when(col(c).isNull(), c)).alias(c) for c in df.columns]).display()"
   ]
  },
  {
   "cell_type": "code",
   "execution_count": 0,
   "metadata": {
    "application/vnd.databricks.v1+cell": {
     "cellMetadata": {
      "byteLimit": 2048000,
      "rowLimit": 10000
     },
     "inputWidgets": {},
     "nuid": "260fa7a0-2887-4166-9be6-1eb01fe671fb",
     "showTitle": false,
     "tableResultSettingsMap": {},
     "title": ""
    }
   },
   "outputs": [
    {
     "output_type": "stream",
     "name": "stdout",
     "output_type": "stream",
     "text": [
      "root\n |-- Customer_ID: integer (nullable = true)\n |-- Name: string (nullable = true)\n |-- Email: string (nullable = true)\n |-- Age: integer (nullable = true)\n |-- Purchase_Amount: double (nullable = true)\n |-- Signup_Date: date (nullable = true)\n\n"
     ]
    }
   ],
   "source": [
    "df_fixed.printSchema()\n"
   ]
  },
  {
   "cell_type": "code",
   "execution_count": 0,
   "metadata": {
    "application/vnd.databricks.v1+cell": {
     "cellMetadata": {
      "byteLimit": 2048000,
      "rowLimit": 10000
     },
     "inputWidgets": {},
     "nuid": "598ea0ff-5745-4478-98ec-cbd45eb4bc8d",
     "showTitle": false,
     "tableResultSettingsMap": {},
     "title": ""
    }
   },
   "outputs": [
    {
     "output_type": "display_data",
     "data": {
      "text/html": [
       "<style scoped>\n",
       "  .table-result-container {\n",
       "    max-height: 300px;\n",
       "    overflow: auto;\n",
       "  }\n",
       "  table, th, td {\n",
       "    border: 1px solid black;\n",
       "    border-collapse: collapse;\n",
       "  }\n",
       "  th, td {\n",
       "    padding: 5px;\n",
       "  }\n",
       "  th {\n",
       "    text-align: left;\n",
       "  }\n",
       "</style><div class='table-result-container'><table class='table-result'><thead style='background-color: white'><tr><th>Customer_ID</th><th>Name</th><th>Email</th><th>Age</th><th>Purchase_Amount</th><th>Signup_Date</th></tr></thead><tbody><tr><td>1</td><td> Alice</td><td>alice@example.com</td><td>25</td><td>100.0</td><td>2024-01-10</td></tr><tr><td>2</td><td> Bob</td><td>bob@example.com</td><td>null</td><td>500.5</td><td>null</td></tr><tr><td>3</td><td> Charlie</td><td>charlie@domain</td><td>30</td><td>null</td><td>2024-02-15</td></tr><tr><td>4</td><td> David</td><td>none</td><td>28</td><td>300.0</td><td>null</td></tr><tr><td>5</td><td> Eve</td><td>eve@example.com</td><td>null</td><td>700.75</td><td>2024-01-25</td></tr><tr><td>7</td><td> John</td><td>john@gmail.com</td><td>40</td><td>50.5</td><td>null</td></tr><tr><td>8</td><td> Mike</td><td>mike@example.com</td><td>35</td><td>null</td><td>2024-01-30</td></tr></tbody></table></div>"
      ]
     },
     "metadata": {
      "application/vnd.databricks.v1+output": {
       "addedWidgets": {},
       "aggData": [],
       "aggError": "",
       "aggOverflow": false,
       "aggSchema": [],
       "aggSeriesLimitReached": false,
       "aggType": "",
       "arguments": {},
       "columnCustomDisplayInfos": {},
       "data": [
        [
         1,
         " Alice",
         "alice@example.com",
         25,
         100.0,
         "2024-01-10"
        ],
        [
         2,
         " Bob",
         "bob@example.com",
         null,
         500.5,
         null
        ],
        [
         3,
         " Charlie",
         "charlie@domain",
         30,
         null,
         "2024-02-15"
        ],
        [
         4,
         " David",
         "none",
         28,
         300.0,
         null
        ],
        [
         5,
         " Eve",
         "eve@example.com",
         null,
         700.75,
         "2024-01-25"
        ],
        [
         7,
         " John",
         "john@gmail.com",
         40,
         50.5,
         null
        ],
        [
         8,
         " Mike",
         "mike@example.com",
         35,
         null,
         "2024-01-30"
        ]
       ],
       "datasetInfos": [],
       "dbfsResultPath": null,
       "isJsonSchema": true,
       "metadata": {},
       "overflow": false,
       "plotOptions": {
        "customPlotOptions": {},
        "displayType": "table",
        "pivotAggregation": null,
        "pivotColumns": null,
        "xColumns": null,
        "yColumns": null
       },
       "removedWidgets": [],
       "schema": [
        {
         "metadata": "{}",
         "name": "Customer_ID",
         "type": "\"integer\""
        },
        {
         "metadata": "{}",
         "name": "Name",
         "type": "\"string\""
        },
        {
         "metadata": "{}",
         "name": "Email",
         "type": "\"string\""
        },
        {
         "metadata": "{}",
         "name": "Age",
         "type": "\"integer\""
        },
        {
         "metadata": "{}",
         "name": "Purchase_Amount",
         "type": "\"double\""
        },
        {
         "metadata": "{}",
         "name": "Signup_Date",
         "type": "\"date\""
        }
       ],
       "type": "table"
      }
     },
     "output_type": "display_data"
    }
   ],
   "source": [
    "final_df = df_fixed.distinct()\n",
    "final_df.orderBy(col('Customer_ID')).display()"
   ]
  },
  {
   "cell_type": "code",
   "execution_count": 0,
   "metadata": {
    "application/vnd.databricks.v1+cell": {
     "cellMetadata": {
      "byteLimit": 2048000,
      "rowLimit": 10000
     },
     "inputWidgets": {},
     "nuid": "94f2f938-05ca-4dfb-961e-3dec554cc66b",
     "showTitle": false,
     "tableResultSettingsMap": {},
     "title": ""
    }
   },
   "outputs": [],
   "source": [
    "json_df = spark.read.json(json_path, multiLine=True)"
   ]
  },
  {
   "cell_type": "code",
   "execution_count": 0,
   "metadata": {
    "application/vnd.databricks.v1+cell": {
     "cellMetadata": {
      "byteLimit": 2048000,
      "rowLimit": 10000
     },
     "inputWidgets": {},
     "nuid": "af720e70-af35-42e3-89aa-187ecfe6c5ce",
     "showTitle": false,
     "tableResultSettingsMap": {},
     "title": ""
    }
   },
   "outputs": [
    {
     "output_type": "display_data",
     "data": {
      "text/html": [
       "<style scoped>\n",
       "  .table-result-container {\n",
       "    max-height: 300px;\n",
       "    overflow: auto;\n",
       "  }\n",
       "  table, th, td {\n",
       "    border: 1px solid black;\n",
       "    border-collapse: collapse;\n",
       "  }\n",
       "  th, td {\n",
       "    padding: 5px;\n",
       "  }\n",
       "  th {\n",
       "    text-align: left;\n",
       "  }\n",
       "</style><div class='table-result-container'><table class='table-result'><thead style='background-color: white'><tr><th>address</th><th>age</th><th>email</th><th>id</th><th>name</th><th>orders</th></tr></thead><tbody><tr><td>List(Springfield, 123 Elm St, 12345)</td><td>30</td><td>john.doe@example.com</td><td>1</td><td>John Doe</td><td>List(List(1200.5, 2022-01-15, 101, Laptop), List(800.99, 2022-03-22, 102, Smartphone))</td></tr><tr><td>List(Metropolis, 456 Oak St, 67890)</td><td>27</td><td>jane.smith@example.com</td><td>2</td><td>Jane Smith</td><td>List(List(499.99, 2022-04-10, 103, Tablet))</td></tr><tr><td>List(Gotham, 789 Pine St, 11223)</td><td>22</td><td>sam.brown@example.com</td><td>3</td><td>Sam Brown</td><td>List(List(150.75, 2022-06-05, 104, Headphones), List(350.0, 2022-07-19, 105, Monitor))</td></tr></tbody></table></div>"
      ]
     },
     "metadata": {
      "application/vnd.databricks.v1+output": {
       "addedWidgets": {},
       "aggData": [],
       "aggError": "",
       "aggOverflow": false,
       "aggSchema": [],
       "aggSeriesLimitReached": false,
       "aggType": "",
       "arguments": {},
       "columnCustomDisplayInfos": {},
       "data": [
        [
         [
          "Springfield",
          "123 Elm St",
          "12345"
         ],
         30,
         "john.doe@example.com",
         1,
         "John Doe",
         [
          [
           1200.5,
           "2022-01-15",
           101,
           "Laptop"
          ],
          [
           800.99,
           "2022-03-22",
           102,
           "Smartphone"
          ]
         ]
        ],
        [
         [
          "Metropolis",
          "456 Oak St",
          "67890"
         ],
         27,
         "jane.smith@example.com",
         2,
         "Jane Smith",
         [
          [
           499.99,
           "2022-04-10",
           103,
           "Tablet"
          ]
         ]
        ],
        [
         [
          "Gotham",
          "789 Pine St",
          "11223"
         ],
         22,
         "sam.brown@example.com",
         3,
         "Sam Brown",
         [
          [
           150.75,
           "2022-06-05",
           104,
           "Headphones"
          ],
          [
           350.0,
           "2022-07-19",
           105,
           "Monitor"
          ]
         ]
        ]
       ],
       "datasetInfos": [],
       "dbfsResultPath": null,
       "isJsonSchema": true,
       "metadata": {},
       "overflow": false,
       "plotOptions": {
        "customPlotOptions": {},
        "displayType": "table",
        "pivotAggregation": null,
        "pivotColumns": null,
        "xColumns": null,
        "yColumns": null
       },
       "removedWidgets": [],
       "schema": [
        {
         "metadata": "{}",
         "name": "address",
         "type": "{\"type\":\"struct\",\"fields\":[{\"name\":\"city\",\"type\":\"string\",\"nullable\":true,\"metadata\":{}},{\"name\":\"street\",\"type\":\"string\",\"nullable\":true,\"metadata\":{}},{\"name\":\"zip\",\"type\":\"string\",\"nullable\":true,\"metadata\":{}}]}"
        },
        {
         "metadata": "{}",
         "name": "age",
         "type": "\"long\""
        },
        {
         "metadata": "{}",
         "name": "email",
         "type": "\"string\""
        },
        {
         "metadata": "{}",
         "name": "id",
         "type": "\"long\""
        },
        {
         "metadata": "{}",
         "name": "name",
         "type": "\"string\""
        },
        {
         "metadata": "{}",
         "name": "orders",
         "type": "{\"type\":\"array\",\"elementType\":{\"type\":\"struct\",\"fields\":[{\"name\":\"amount\",\"type\":\"double\",\"nullable\":true,\"metadata\":{}},{\"name\":\"date\",\"type\":\"string\",\"nullable\":true,\"metadata\":{}},{\"name\":\"order_id\",\"type\":\"long\",\"nullable\":true,\"metadata\":{}},{\"name\":\"product\",\"type\":\"string\",\"nullable\":true,\"metadata\":{}}]},\"containsNull\":true}"
        }
       ],
       "type": "table"
      }
     },
     "output_type": "display_data"
    }
   ],
   "source": [
    "json_df.display()"
   ]
  },
  {
   "cell_type": "code",
   "execution_count": 0,
   "metadata": {
    "application/vnd.databricks.v1+cell": {
     "cellMetadata": {
      "byteLimit": 2048000,
      "rowLimit": 10000
     },
     "inputWidgets": {},
     "nuid": "68a6aea7-66db-44a8-a9a1-9574fa43c0b2",
     "showTitle": false,
     "tableResultSettingsMap": {},
     "title": ""
    }
   },
   "outputs": [],
   "source": [
    "# exloding orders, address columns\n",
    "# droping oridinal , address columns after exploding\n",
    "# converting Zip column to integer type\n",
    "# converting date column to date type \n",
    "\n",
    "exploded_df = json_df.withColumn('orders', explode('orders')).select('*', 'orders.*', 'address.*').drop('orders', 'address').withColumn('Zip', col('Zip').cast(IntegerType())).withColumn('date', to_date(col('date'),  \"yyyy-MM-dd\"))"
   ]
  },
  {
   "cell_type": "code",
   "execution_count": 0,
   "metadata": {
    "application/vnd.databricks.v1+cell": {
     "cellMetadata": {
      "byteLimit": 2048000,
      "rowLimit": 10000
     },
     "inputWidgets": {},
     "nuid": "58cb7d73-0701-4e0d-a8be-e0d0e752d4f5",
     "showTitle": false,
     "tableResultSettingsMap": {},
     "title": ""
    }
   },
   "outputs": [
    {
     "output_type": "display_data",
     "data": {
      "text/html": [
       "<style scoped>\n",
       "  .table-result-container {\n",
       "    max-height: 300px;\n",
       "    overflow: auto;\n",
       "  }\n",
       "  table, th, td {\n",
       "    border: 1px solid black;\n",
       "    border-collapse: collapse;\n",
       "  }\n",
       "  th, td {\n",
       "    padding: 5px;\n",
       "  }\n",
       "  th {\n",
       "    text-align: left;\n",
       "  }\n",
       "</style><div class='table-result-container'><table class='table-result'><thead style='background-color: white'><tr><th>age</th><th>email</th><th>id</th><th>name</th><th>amount</th><th>date</th><th>order_id</th><th>product</th><th>city</th><th>street</th><th>Zip</th></tr></thead><tbody><tr><td>30</td><td>john.doe@example.com</td><td>1</td><td>John Doe</td><td>1200.5</td><td>2022-01-15</td><td>101</td><td>Laptop</td><td>Springfield</td><td>123 Elm St</td><td>12345</td></tr><tr><td>30</td><td>john.doe@example.com</td><td>1</td><td>John Doe</td><td>800.99</td><td>2022-03-22</td><td>102</td><td>Smartphone</td><td>Springfield</td><td>123 Elm St</td><td>12345</td></tr><tr><td>27</td><td>jane.smith@example.com</td><td>2</td><td>Jane Smith</td><td>499.99</td><td>2022-04-10</td><td>103</td><td>Tablet</td><td>Metropolis</td><td>456 Oak St</td><td>67890</td></tr><tr><td>22</td><td>sam.brown@example.com</td><td>3</td><td>Sam Brown</td><td>150.75</td><td>2022-06-05</td><td>104</td><td>Headphones</td><td>Gotham</td><td>789 Pine St</td><td>11223</td></tr><tr><td>22</td><td>sam.brown@example.com</td><td>3</td><td>Sam Brown</td><td>350.0</td><td>2022-07-19</td><td>105</td><td>Monitor</td><td>Gotham</td><td>789 Pine St</td><td>11223</td></tr></tbody></table></div>"
      ]
     },
     "metadata": {
      "application/vnd.databricks.v1+output": {
       "addedWidgets": {},
       "aggData": [],
       "aggError": "",
       "aggOverflow": false,
       "aggSchema": [],
       "aggSeriesLimitReached": false,
       "aggType": "",
       "arguments": {},
       "columnCustomDisplayInfos": {},
       "data": [
        [
         30,
         "john.doe@example.com",
         1,
         "John Doe",
         1200.5,
         "2022-01-15",
         101,
         "Laptop",
         "Springfield",
         "123 Elm St",
         12345
        ],
        [
         30,
         "john.doe@example.com",
         1,
         "John Doe",
         800.99,
         "2022-03-22",
         102,
         "Smartphone",
         "Springfield",
         "123 Elm St",
         12345
        ],
        [
         27,
         "jane.smith@example.com",
         2,
         "Jane Smith",
         499.99,
         "2022-04-10",
         103,
         "Tablet",
         "Metropolis",
         "456 Oak St",
         67890
        ],
        [
         22,
         "sam.brown@example.com",
         3,
         "Sam Brown",
         150.75,
         "2022-06-05",
         104,
         "Headphones",
         "Gotham",
         "789 Pine St",
         11223
        ],
        [
         22,
         "sam.brown@example.com",
         3,
         "Sam Brown",
         350.0,
         "2022-07-19",
         105,
         "Monitor",
         "Gotham",
         "789 Pine St",
         11223
        ]
       ],
       "datasetInfos": [],
       "dbfsResultPath": null,
       "isJsonSchema": true,
       "metadata": {},
       "overflow": false,
       "plotOptions": {
        "customPlotOptions": {},
        "displayType": "table",
        "pivotAggregation": null,
        "pivotColumns": null,
        "xColumns": null,
        "yColumns": null
       },
       "removedWidgets": [],
       "schema": [
        {
         "metadata": "{}",
         "name": "age",
         "type": "\"long\""
        },
        {
         "metadata": "{}",
         "name": "email",
         "type": "\"string\""
        },
        {
         "metadata": "{}",
         "name": "id",
         "type": "\"long\""
        },
        {
         "metadata": "{}",
         "name": "name",
         "type": "\"string\""
        },
        {
         "metadata": "{}",
         "name": "amount",
         "type": "\"double\""
        },
        {
         "metadata": "{}",
         "name": "date",
         "type": "\"date\""
        },
        {
         "metadata": "{}",
         "name": "order_id",
         "type": "\"long\""
        },
        {
         "metadata": "{}",
         "name": "product",
         "type": "\"string\""
        },
        {
         "metadata": "{}",
         "name": "city",
         "type": "\"string\""
        },
        {
         "metadata": "{}",
         "name": "street",
         "type": "\"string\""
        },
        {
         "metadata": "{}",
         "name": "Zip",
         "type": "\"integer\""
        }
       ],
       "type": "table"
      }
     },
     "output_type": "display_data"
    }
   ],
   "source": [
    "exploded_df.display()"
   ]
  },
  {
   "cell_type": "code",
   "execution_count": 0,
   "metadata": {
    "application/vnd.databricks.v1+cell": {
     "cellMetadata": {
      "byteLimit": 2048000,
      "rowLimit": 10000
     },
     "inputWidgets": {},
     "nuid": "416c8959-e197-46f6-af26-d154d6004660",
     "showTitle": false,
     "tableResultSettingsMap": {},
     "title": ""
    }
   },
   "outputs": [
    {
     "output_type": "display_data",
     "data": {
      "text/html": [
       "<style scoped>\n",
       "  .table-result-container {\n",
       "    max-height: 300px;\n",
       "    overflow: auto;\n",
       "  }\n",
       "  table, th, td {\n",
       "    border: 1px solid black;\n",
       "    border-collapse: collapse;\n",
       "  }\n",
       "  th, td {\n",
       "    padding: 5px;\n",
       "  }\n",
       "  th {\n",
       "    text-align: left;\n",
       "  }\n",
       "</style><div class='table-result-container'><table class='table-result'><thead style='background-color: white'><tr><th>age</th><th>email</th><th>id</th><th>name</th><th>amount</th><th>date</th><th>order_id</th><th>product</th><th>city</th><th>street</th><th>Zip</th></tr></thead><tbody><tr><td>0</td><td>0</td><td>0</td><td>0</td><td>0</td><td>0</td><td>0</td><td>0</td><td>0</td><td>0</td><td>0</td></tr></tbody></table></div>"
      ]
     },
     "metadata": {
      "application/vnd.databricks.v1+output": {
       "addedWidgets": {},
       "aggData": [],
       "aggError": "",
       "aggOverflow": false,
       "aggSchema": [],
       "aggSeriesLimitReached": false,
       "aggType": "",
       "arguments": {},
       "columnCustomDisplayInfos": {},
       "data": [
        [
         0,
         0,
         0,
         0,
         0,
         0,
         0,
         0,
         0,
         0,
         0
        ]
       ],
       "datasetInfos": [],
       "dbfsResultPath": null,
       "isJsonSchema": true,
       "metadata": {},
       "overflow": false,
       "plotOptions": {
        "customPlotOptions": {},
        "displayType": "table",
        "pivotAggregation": null,
        "pivotColumns": null,
        "xColumns": null,
        "yColumns": null
       },
       "removedWidgets": [],
       "schema": [
        {
         "metadata": "{}",
         "name": "age",
         "type": "\"long\""
        },
        {
         "metadata": "{}",
         "name": "email",
         "type": "\"long\""
        },
        {
         "metadata": "{}",
         "name": "id",
         "type": "\"long\""
        },
        {
         "metadata": "{}",
         "name": "name",
         "type": "\"long\""
        },
        {
         "metadata": "{}",
         "name": "amount",
         "type": "\"long\""
        },
        {
         "metadata": "{}",
         "name": "date",
         "type": "\"long\""
        },
        {
         "metadata": "{}",
         "name": "order_id",
         "type": "\"long\""
        },
        {
         "metadata": "{}",
         "name": "product",
         "type": "\"long\""
        },
        {
         "metadata": "{}",
         "name": "city",
         "type": "\"long\""
        },
        {
         "metadata": "{}",
         "name": "street",
         "type": "\"long\""
        },
        {
         "metadata": "{}",
         "name": "Zip",
         "type": "\"long\""
        }
       ],
       "type": "table"
      }
     },
     "output_type": "display_data"
    }
   ],
   "source": [
    "# counting null values for each column\n",
    "exploded_df.select([count(when(col(c).isNull(), c)).alias(c) for c in exploded_df.columns]).display()"
   ]
  },
  {
   "cell_type": "code",
   "execution_count": 0,
   "metadata": {
    "application/vnd.databricks.v1+cell": {
     "cellMetadata": {
      "byteLimit": 2048000,
      "rowLimit": 10000
     },
     "inputWidgets": {},
     "nuid": "369694ec-bb43-445c-89c6-3aff0e060c59",
     "showTitle": false,
     "tableResultSettingsMap": {},
     "title": ""
    }
   },
   "outputs": [
    {
     "output_type": "stream",
     "name": "stdout",
     "output_type": "stream",
     "text": [
      "root\n |-- age: long (nullable = true)\n |-- email: string (nullable = true)\n |-- id: long (nullable = true)\n |-- name: string (nullable = true)\n |-- amount: double (nullable = true)\n |-- date: date (nullable = true)\n |-- order_id: long (nullable = true)\n |-- product: string (nullable = true)\n |-- city: string (nullable = true)\n |-- street: string (nullable = true)\n |-- Zip: integer (nullable = true)\n\n"
     ]
    }
   ],
   "source": [
    "exploded_df.printSchema()"
   ]
  }
 ],
 "metadata": {
  "application/vnd.databricks.v1+notebook": {
   "computePreferences": null,
   "dashboards": [],
   "environmentMetadata": {
    "base_environment": "",
    "client": "1"
   },
   "language": "python",
   "notebookMetadata": {
    "pythonIndentUnit": 4
   },
   "notebookName": "data_profiling",
   "widgets": {}
  }
 },
 "nbformat": 4,
 "nbformat_minor": 0
}
