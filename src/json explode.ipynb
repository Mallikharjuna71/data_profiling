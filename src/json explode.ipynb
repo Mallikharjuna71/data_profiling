{
 "cells": [
  {
   "cell_type": "code",
   "execution_count": 0,
   "metadata": {
    "application/vnd.databricks.v1+cell": {
     "cellMetadata": {
      "byteLimit": 2048000,
      "rowLimit": 10000
     },
     "inputWidgets": {},
     "nuid": "080ba0ad-7aa0-40d6-bba3-d38eb3558a4b",
     "showTitle": false,
     "tableResultSettingsMap": {},
     "title": ""
    }
   },
   "outputs": [],
   "source": [
    "from pyspark.sql.functions import *\n",
    "from pyspark.sql.types import *"
   ]
  },
  {
   "cell_type": "code",
   "execution_count": 0,
   "metadata": {
    "application/vnd.databricks.v1+cell": {
     "cellMetadata": {
      "byteLimit": 2048000,
      "rowLimit": 10000
     },
     "inputWidgets": {},
     "nuid": "ff8a3435-f709-4ceb-ba87-2d25e7733469",
     "showTitle": false,
     "tableResultSettingsMap": {},
     "title": ""
    }
   },
   "outputs": [],
   "source": [
    "data = [\n",
    "    {\n",
    "        \"id\": 1,\n",
    "        \"name\": \"John Doe\",\n",
    "        \"contact\": {\n",
    "            \"phone\": \"123-456-7890\",\n",
    "            \"email\": \"john.doe@example.com\"\n",
    "        },\n",
    "        \"address\": {\n",
    "            \"street\": \"123 Main St\",\n",
    "            \"city\": \"Anytown\",\n",
    "            \"state\": \"Anystate\",\n",
    "            \"zipcode\": \"12345\"\n",
    "        },\n",
    "        \"orders\": [\n",
    "            {\"order_id\": 101, \"product\": \"Laptop\", \"quantity\": 1, \"price\": 999.99},\n",
    "            {\"order_id\": 102, \"product\": \"Smartphone\", \"quantity\": 2, \"price\": 599.99}\n",
    "        ]\n",
    "    }\n",
    "]\n"
   ]
  },
  {
   "cell_type": "code",
   "execution_count": 0,
   "metadata": {
    "application/vnd.databricks.v1+cell": {
     "cellMetadata": {
      "byteLimit": 2048000,
      "rowLimit": 10000
     },
     "inputWidgets": {},
     "nuid": "661ff9af-20ec-435e-86bd-f2f57ce68e07",
     "showTitle": false,
     "tableResultSettingsMap": {},
     "title": ""
    }
   },
   "outputs": [],
   "source": [
    "# Define the custom schema for the data\n",
    "custom_schema = StructType([\n",
    "    StructField(\"id\", IntegerType(), False),\n",
    "    StructField(\"name\", StringType(), True),\n",
    "    StructField(\"contact\", StructType([\n",
    "        StructField(\"phone\", StringType(), True),\n",
    "        StructField(\"email\", StringType(), True)\n",
    "    ]), True),\n",
    "    StructField(\"address\", StructType([\n",
    "        StructField(\"street\", StringType(), True),\n",
    "        StructField(\"city\", StringType(), True),\n",
    "        StructField(\"state\", StringType(), True),\n",
    "        StructField(\"zipcode\", StringType(), True)\n",
    "    ]), True),\n",
    "    StructField(\"orders\", ArrayType(StructType([\n",
    "        StructField(\"order_id\", IntegerType(), False),\n",
    "        StructField(\"product\", StringType(), True),\n",
    "        StructField(\"quantity\", IntegerType(), True),\n",
    "        StructField(\"price\", DoubleType(), True)\n",
    "    ])), True)\n",
    "])\n"
   ]
  },
  {
   "cell_type": "code",
   "execution_count": 0,
   "metadata": {
    "application/vnd.databricks.v1+cell": {
     "cellMetadata": {
      "byteLimit": 2048000,
      "rowLimit": 10000
     },
     "inputWidgets": {},
     "nuid": "4b773253-953f-475f-9b9b-7ec732b7c0bb",
     "showTitle": false,
     "tableResultSettingsMap": {},
     "title": ""
    }
   },
   "outputs": [],
   "source": [
    "df = spark.createDataFrame(data, custom_schema)"
   ]
  },
  {
   "cell_type": "code",
   "execution_count": 0,
   "metadata": {
    "application/vnd.databricks.v1+cell": {
     "cellMetadata": {
      "byteLimit": 2048000,
      "rowLimit": 10000
     },
     "inputWidgets": {},
     "nuid": "6050e3de-e6e3-4cf1-8607-81bf689a4df6",
     "showTitle": false,
     "tableResultSettingsMap": {},
     "title": ""
    }
   },
   "outputs": [],
   "source": [
    "# Explode the 'orders' array\n",
    "exploded_df = df.withColumn(\"order\", explode(col(\"orders\")))\n"
   ]
  },
  {
   "cell_type": "code",
   "execution_count": 0,
   "metadata": {
    "application/vnd.databricks.v1+cell": {
     "cellMetadata": {
      "byteLimit": 2048000,
      "rowLimit": 10000
     },
     "inputWidgets": {},
     "nuid": "ed955022-9eea-4f17-ba40-2b4440879dc2",
     "showTitle": false,
     "tableResultSettingsMap": {},
     "title": ""
    }
   },
   "outputs": [],
   "source": [
    "# Select relevant columns and flatten the nested fields\n",
    "# flattened_df = exploded_df.select(\n",
    "#     \"id\",\n",
    "#     \"name\",\n",
    "#     col(\"contact.phone\").alias(\"contact_phone\"),\n",
    "#     col(\"contact.email\").alias(\"contact_email\"),\n",
    "#     col(\"address.street\").alias(\"address_street\"),\n",
    "#     col(\"address.city\").alias(\"address_city\"),\n",
    "#     col(\"address.state\").alias(\"address_state\"),\n",
    "#     col(\"address.zipcode\").alias(\"address_zipcode\"),\n",
    "#     col(\"order.order_id\").alias(\"order_id\"),\n",
    "#     col(\"order.product\").alias(\"product\"),\n",
    "#     col(\"order.quantity\").alias(\"quantity\"),\n",
    "#     col(\"order.price\").alias(\"price\")\n",
    "# )\n",
    "flattened_df = exploded_df.select(\n",
    "    \"id\",\n",
    "    \"name\",\n",
    "    col(\"contact.*\"),\n",
    "    col(\"address.*\"),\n",
    "    col(\"order.*\"),\n",
    ")"
   ]
  },
  {
   "cell_type": "code",
   "execution_count": 0,
   "metadata": {
    "application/vnd.databricks.v1+cell": {
     "cellMetadata": {
      "byteLimit": 2048000,
      "rowLimit": 10000
     },
     "inputWidgets": {},
     "nuid": "fdeb1dd4-060a-4309-a806-9f321e10494e",
     "showTitle": false,
     "tableResultSettingsMap": {},
     "title": ""
    }
   },
   "outputs": [
    {
     "output_type": "display_data",
     "data": {
      "text/html": [
       "<style scoped>\n",
       "  .table-result-container {\n",
       "    max-height: 300px;\n",
       "    overflow: auto;\n",
       "  }\n",
       "  table, th, td {\n",
       "    border: 1px solid black;\n",
       "    border-collapse: collapse;\n",
       "  }\n",
       "  th, td {\n",
       "    padding: 5px;\n",
       "  }\n",
       "  th {\n",
       "    text-align: left;\n",
       "  }\n",
       "</style><div class='table-result-container'><table class='table-result'><thead style='background-color: white'><tr><th>id</th><th>name</th><th>phone</th><th>email</th><th>street</th><th>city</th><th>state</th><th>zipcode</th><th>order_id</th><th>product</th><th>quantity</th><th>price</th></tr></thead><tbody><tr><td>1</td><td>John Doe</td><td>123-456-7890</td><td>john.doe@example.com</td><td>123 Main St</td><td>Anytown</td><td>Anystate</td><td>12345</td><td>101</td><td>Laptop</td><td>1</td><td>999.99</td></tr><tr><td>1</td><td>John Doe</td><td>123-456-7890</td><td>john.doe@example.com</td><td>123 Main St</td><td>Anytown</td><td>Anystate</td><td>12345</td><td>102</td><td>Smartphone</td><td>2</td><td>599.99</td></tr></tbody></table></div>"
      ]
     },
     "metadata": {
      "application/vnd.databricks.v1+output": {
       "addedWidgets": {},
       "aggData": [],
       "aggError": "",
       "aggOverflow": false,
       "aggSchema": [],
       "aggSeriesLimitReached": false,
       "aggType": "",
       "arguments": {},
       "columnCustomDisplayInfos": {},
       "data": [
        [
         1,
         "John Doe",
         "123-456-7890",
         "john.doe@example.com",
         "123 Main St",
         "Anytown",
         "Anystate",
         "12345",
         101,
         "Laptop",
         1,
         999.99
        ],
        [
         1,
         "John Doe",
         "123-456-7890",
         "john.doe@example.com",
         "123 Main St",
         "Anytown",
         "Anystate",
         "12345",
         102,
         "Smartphone",
         2,
         599.99
        ]
       ],
       "datasetInfos": [],
       "dbfsResultPath": null,
       "isJsonSchema": true,
       "metadata": {},
       "overflow": false,
       "plotOptions": {
        "customPlotOptions": {},
        "displayType": "table",
        "pivotAggregation": null,
        "pivotColumns": null,
        "xColumns": null,
        "yColumns": null
       },
       "removedWidgets": [],
       "schema": [
        {
         "metadata": "{}",
         "name": "id",
         "type": "\"integer\""
        },
        {
         "metadata": "{}",
         "name": "name",
         "type": "\"string\""
        },
        {
         "metadata": "{}",
         "name": "phone",
         "type": "\"string\""
        },
        {
         "metadata": "{}",
         "name": "email",
         "type": "\"string\""
        },
        {
         "metadata": "{}",
         "name": "street",
         "type": "\"string\""
        },
        {
         "metadata": "{}",
         "name": "city",
         "type": "\"string\""
        },
        {
         "metadata": "{}",
         "name": "state",
         "type": "\"string\""
        },
        {
         "metadata": "{}",
         "name": "zipcode",
         "type": "\"string\""
        },
        {
         "metadata": "{}",
         "name": "order_id",
         "type": "\"integer\""
        },
        {
         "metadata": "{}",
         "name": "product",
         "type": "\"string\""
        },
        {
         "metadata": "{}",
         "name": "quantity",
         "type": "\"integer\""
        },
        {
         "metadata": "{}",
         "name": "price",
         "type": "\"double\""
        }
       ],
       "type": "table"
      }
     },
     "output_type": "display_data"
    }
   ],
   "source": [
    "# Show the resulting DataFrame\n",
    "flattened_df.display()\n"
   ]
  }
 ],
 "metadata": {
  "application/vnd.databricks.v1+notebook": {
   "computePreferences": null,
   "dashboards": [],
   "environmentMetadata": {
    "base_environment": "",
    "client": "1"
   },
   "language": "python",
   "notebookMetadata": {
    "pythonIndentUnit": 4
   },
   "notebookName": "json explode",
   "widgets": {}
  }
 },
 "nbformat": 4,
 "nbformat_minor": 0
}
